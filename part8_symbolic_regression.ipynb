{
 "cells": [
  {
   "cell_type": "markdown",
   "id": "79933ff7",
   "metadata": {},
   "source": [
    "# Part 8: Symbolic Regression"
   ]
  },
  {
   "cell_type": "code",
   "execution_count": null,
   "id": "ede2226f",
   "metadata": {},
   "outputs": [],
   "source": [
    "import numpy as np\n",
    "import sympy\n",
    "import matplotlib.pyplot as plt\n",
    "from sklearn.model_selection import train_test_split\n",
    "from sklearn.preprocessing import StandardScaler, LabelEncoder\n",
    "from sklearn.metrics import roc_curve, auc, accuracy_score\n",
    "from tensorflow.keras.utils import to_categorical\n",
    "from sklearn.datasets import fetch_openml"
   ]
  },
  {
   "cell_type": "markdown",
   "id": "d9e2b159",
   "metadata": {},
   "source": [
    "## Load the LHC jet tagging dataset"
   ]
  },
  {
   "cell_type": "code",
   "execution_count": null,
   "id": "ee6d96bd",
   "metadata": {},
   "outputs": [],
   "source": [
    "data = fetch_openml('hls4ml_lhc_jets_hlf')\n",
    "X, Y = data['data'].to_numpy(), data['target'].to_numpy()\n",
    "print(data['feature_names'])\n",
    "print(X.shape, Y.shape)\n",
    "print(Y[:10])\n",
    "\n",
    "LE = LabelEncoder()\n",
    "Y = LE.fit_transform(Y)\n",
    "Y = to_categorical(Y, 5)\n",
    "\n",
    "Y=2*Y-1\n",
    "print(Y[:10])"
   ]
  },
  {
   "cell_type": "code",
   "execution_count": null,
   "id": "0502aea8",
   "metadata": {},
   "outputs": [],
   "source": [
    "X_train, X_test, Y_train, Y_test = train_test_split(X, Y, test_size = 0.5, random_state=123)\n",
    "\n",
    "scaler = StandardScaler().fit(X_train)\n",
    "X_train = scaler.transform(X_train)\n",
    "X_test = scaler.transform(X_test)\n",
    "\n",
    "# PySR not happy with too many training data (i.e., >10000)\n",
    "X_train = X_train[:8000]\n",
    "Y_train = Y_train[:8000]\n",
    "\n",
    "print('X_train.shape: ' + str(X_train.shape))\n",
    "print('Y_train.shape: ' + str(Y_train.shape))\n",
    "print('X_test.shape: ' + str(X_test.shape))\n",
    "print('Y_test.shape: ' + str(Y_test.shape))"
   ]
  },
  {
   "cell_type": "markdown",
   "id": "7ec86106",
   "metadata": {},
   "source": [
    "## Perform SR"
   ]
  },
  {
   "cell_type": "markdown",
   "id": "57e7896d",
   "metadata": {},
   "source": [
    "To perform SR demonstration, we use PySR (https://github.com/MilesCranmer/PySR), which is a high-performance SR library based on genetic programming in Python and Julia. An example model configuration is provided below, you can install PySR and adapt this training script. We provide a PySR model trained from this script and stored at \"sr/example.pkl\" for HLS demonstration."
   ]
  },
  {
   "cell_type": "code",
   "execution_count": null,
   "id": "96a651dd",
   "metadata": {},
   "outputs": [],
   "source": [
    "from pysr import PySRRegressor\n",
    "!export JULIA_NUM_THREADS=32\n",
    "\n",
    "model_pysr = PySRRegressor(\n",
    "    model_selection='accuracy',\n",
    "    niterations=40,\n",
    "    timeout_in_seconds=60*60*1,\n",
    "    maxsize=40,\n",
    "    select_k_features=6,\n",
    "    binary_operators=['+', '-', '*'],\n",
    "    unary_operators=[\n",
    "        'sin',\n",
    "        'sc(x)=sin(x)*cos(x)'\n",
    "    ],\n",
    "    complexity_of_operators={'+': 1, '-': 1, '*': 1, 'sin': 1, 'sc': 1},\n",
    "    constraints={'sin': 20, 'sc': 20},\n",
    "    nested_constraints={\n",
    "        'sin': {'sin': 0, 'sc': 0},\n",
    "        'sc':  {'sin': 0, 'sc': 0}\n",
    "    },\n",
    "    extra_sympy_mappings={'sc': lambda x: sympy.sin(x)*sympy.cos(x)},\n",
    "    loss='L2MarginLoss()' #(1 - y*y')^2\n",
    ")"
   ]
  },
  {
   "cell_type": "code",
   "execution_count": null,
   "id": "5f4d9501",
   "metadata": {},
   "outputs": [],
   "source": [
    "model_pysr.fit(X_train, Y_train)"
   ]
  },
  {
   "cell_type": "markdown",
   "id": "846e710b",
   "metadata": {},
   "source": [
    "## Convert symbolic expressions into HLS project"
   ]
  },
  {
   "cell_type": "markdown",
   "id": "c7aaf105",
   "metadata": {},
   "source": [
    "We use an already trained PySR model stored at \"sr/example.pkl\" for demonstration."
   ]
  },
  {
   "cell_type": "code",
   "execution_count": null,
   "id": "d3d5d2cd",
   "metadata": {
    "scrolled": true
   },
   "outputs": [],
   "source": [
    "from pysr import PySRRegressor\n",
    "model_pysr = PySRRegressor.from_file('sr/example.pkl')\n",
    "with sympy.evaluate(True):\n",
    "    for i in range(5):\n",
    "        print('Tagger {} = '.format(i)+str(model_pysr.sympy()[i])+'\\n------------------------------------------')"
   ]
  },
  {
   "cell_type": "markdown",
   "id": "03fc8284",
   "metadata": {},
   "source": [
    "Two HLS models are created: 1) using math functions from Vivado math library, and 2) using math functions approximated with look-up tables."
   ]
  },
  {
   "cell_type": "code",
   "execution_count": null,
   "id": "46ff4b5e",
   "metadata": {
    "scrolled": false
   },
   "outputs": [],
   "source": [
    "model_pysr.set_params(extra_sympy_mappings={\"sc\": lambda x: sympy.sin(x)*sympy.cos(x)})\n",
    "model_pysr.refresh()\n",
    "class sc(sympy.Function):\n",
    "    pass\n",
    "\n",
    "from hls4ml.utils.symbolic_utils import init_pysr_lut_functions\n",
    "function_definitions = ['sin_lut(x) = math_lut(sin, x, N=256, range_start=-8, range_end=8)',\n",
    "                        'cos_lut(x) = math_lut(cos, x, N=256, range_start=-8, range_end=8)']\n",
    "init_pysr_lut_functions(init_defaults=True, function_definitions=function_definitions)\n",
    "\n",
    "lut_functions = {\n",
    "    'sin_lut': {\n",
    "        'math_func': 'sin',\n",
    "        'range_start': -8,\n",
    "        'range_end': 8,\n",
    "        'table_size': 256\n",
    "    },\n",
    "    'cos_lut': {\n",
    "        'math_func': 'cos',\n",
    "        'range_start': -8,\n",
    "        'range_end': 8,\n",
    "        'table_size': 256\n",
    "    }\n",
    "}\n",
    "\n",
    "expr = []\n",
    "expr_lut = []\n",
    "for i in range(5):\n",
    "    expr.append(str(model_pysr.sympy()[i]))\n",
    "    expr_lut.append(expr[i].replace(\"sin\", \"sin_lut\").replace(\"cos\", \"cos_lut\"))\n",
    "    print('expr =\\n' + expr[i])\n",
    "    print(\"----------------------------------------\")\n",
    "    print('expr_LUT =\\n' + expr_lut[i])\n",
    "    print(\"========================================\")\n",
    "    expr[i] = sympy.parsing.sympy_parser.parse_expr(expr[i])\n",
    "    expr_lut[i] = sympy.parsing.sympy_parser.parse_expr(expr_lut[i])\n",
    "\n",
    "import hls4ml\n",
    "hls_model = hls4ml.converters.convert_from_symbolic_expression(expr,\n",
    "                                                               n_symbols=16,\n",
    "                                                               output_dir='my-hls-test',\n",
    "                                                               precision='ap_fixed<16,6>',\n",
    "                                                               part='xcvu9p-flga2577-2-e',\n",
    "                                                               hls_include_path='/data/containers/cmd/include',\n",
    "                                                               hls_libs_path='/data/containers/cmd/lnx64'\n",
    "                                                               )\n",
    "hls_model.write()\n",
    "hls_model.compile()\n",
    "\n",
    "hls_model_lut = hls4ml.converters.convert_from_symbolic_expression(expr_lut,\n",
    "                                                                   n_symbols=16,\n",
    "                                                                   output_dir='my-hls-test-lut',\n",
    "                                                                   precision='ap_fixed<16,6>',\n",
    "                                                                   part='xcvu9p-flga2577-2-e',\n",
    "                                                                   lut_functions=lut_functions,\n",
    "                                                                   hls_include_path='/data/containers/cmd/include',\n",
    "                                                                   hls_libs_path='/data/containers/cmd/lnx64'\n",
    "                                                                   )\n",
    "hls_model_lut.write()\n",
    "hls_model_lut.compile()"
   ]
  },
  {
   "cell_type": "markdown",
   "id": "08682628",
   "metadata": {},
   "source": [
    "## Compare outputs: PySR vs HLS vs HLS(LUT)"
   ]
  },
  {
   "cell_type": "code",
   "execution_count": null,
   "id": "39269441",
   "metadata": {},
   "outputs": [],
   "source": [
    "test_vector=np.random.rand(1,16)*4-2\n",
    "test_vector"
   ]
  },
  {
   "cell_type": "code",
   "execution_count": null,
   "id": "e5c38df9",
   "metadata": {},
   "outputs": [],
   "source": [
    "model_pysr.predict(test_vector)"
   ]
  },
  {
   "cell_type": "code",
   "execution_count": null,
   "id": "bbb63714",
   "metadata": {},
   "outputs": [],
   "source": [
    "hls_model.predict(test_vector)"
   ]
  },
  {
   "cell_type": "code",
   "execution_count": null,
   "id": "844a7448",
   "metadata": {},
   "outputs": [],
   "source": [
    "hls_model_lut.predict(test_vector)"
   ]
  },
  {
   "cell_type": "markdown",
   "id": "08795fca",
   "metadata": {},
   "source": [
    "## Compare PySR and HLS performance"
   ]
  },
  {
   "cell_type": "code",
   "execution_count": null,
   "id": "05894f0b",
   "metadata": {},
   "outputs": [],
   "source": [
    "Y_pysr = model_pysr.predict(X_test)\n",
    "Y_hls = hls_model.predict(X_test)\n",
    "Y_hls_lut = hls_model_lut.predict(X_test)\n",
    "auc_pysr=[]\n",
    "auc_hls=[]\n",
    "auc_hls_lut=[]\n",
    "for x, label in enumerate(LE.classes_):\n",
    "    fpr_pysr, tpr_pysr, _ = roc_curve(Y_test[:, x], Y_pysr[:, x])\n",
    "    fpr_hls, tpr_hls, _ = roc_curve(Y_test[:, x], Y_hls[:, x])\n",
    "    fpr_hls_lut, tpr_hls_lut, _ = roc_curve(Y_test[:, x], Y_hls_lut[:, x])\n",
    "    auc_pysr.append(auc(fpr_pysr, tpr_pysr))\n",
    "    auc_hls.append(auc(fpr_hls, tpr_hls))\n",
    "    auc_hls_lut.append(auc(fpr_hls_lut, tpr_hls_lut))\n",
    "\n",
    "print('PySR acc    = {0:.3f}'.format(accuracy_score(np.argmax(Y_test, axis=1), np.argmax(Y_pysr, axis=1))))\n",
    "print('PySR auc    = {0:.3f},{1:.3f},{2:.3f},{3:.3f},{4:.3f}'.format(auc_pysr[0],auc_pysr[1],auc_pysr[2],auc_pysr[3],auc_pysr[4]))\n",
    "print('HLS acc     = {0:.3f}'.format(accuracy_score(np.argmax(Y_test, axis=1), np.argmax(Y_hls, axis=1))))\n",
    "print('HLS auc     = {0:.3f},{1:.3f},{2:.3f},{3:.3f},{4:.3f}'.format(auc_hls[0],auc_hls[1],auc_hls[2],auc_hls[3],auc_hls[4]))\n",
    "print('HLS_LUT acc = {0:.3f}'.format(accuracy_score(np.argmax(Y_test, axis=1), np.argmax(Y_hls_lut, axis=1))))\n",
    "print('HLS_LUT auc = {0:.3f},{1:.3f},{2:.3f},{3:.3f},{4:.3f}'.format(auc_hls_lut[0],auc_hls_lut[1],auc_hls_lut[2],auc_hls_lut[3],auc_hls_lut[4]))"
   ]
  },
  {
   "cell_type": "code",
   "execution_count": null,
   "id": "002643a3",
   "metadata": {},
   "outputs": [],
   "source": [
    "def plot_roc(y_test, y_pred, labels, model):\n",
    "    color = ['blue','orange','green','red','purple']\n",
    "    for x, label in enumerate(labels):        \n",
    "        fpr, tpr, _ = roc_curve(y_test[:, x], y_pred[:, x])\n",
    "        if model == 'pysr':\n",
    "            plt.plot(tpr, fpr, label='{0}, PySR, AUC = {1:.1f}'.format(label, auc(fpr, tpr)*100.), linestyle='solid', color=color[x], lw=1.5)\n",
    "        if model == 'hls':\n",
    "            plt.plot(tpr, fpr, label='{0}, HLS, AUC = {1:.1f}'.format(label, auc(fpr, tpr)*100.), linestyle='dotted', color=color[x], lw=1.5)\n",
    "        if model == 'hls_lut':\n",
    "            plt.plot(tpr, fpr, label='{0}, HLS LUT, AUC = {1:.1f}'.format(label, auc(fpr, tpr)*100.), linestyle='None',  color=color[x], lw=1, marker='o',ms=1)\n",
    "    plt.semilogy()\n",
    "    plt.xlabel('True positive rate', size=15, loc='right')\n",
    "    plt.ylabel('False positive rate', size=15, loc='top')\n",
    "    plt.tick_params(axis='both', which='major', direction='in', length=6, width=1.2, labelsize=12, right=True, top=True)\n",
    "    plt.tick_params(axis='both', which='minor', direction='in', length=2, width=1, labelsize=12, right=True, top=True)\n",
    "    plt.xlim(0, 1)\n",
    "    plt.ylim(0.001, 1)\n",
    "    plt.grid(True)\n",
    "    plt.legend(loc='center left', bbox_to_anchor=(1, 0.5),fontsize=12)  \n",
    "    \n",
    "plt.figure(figsize=(15, 15))\n",
    "axes = plt.subplot(2,2,1)\n",
    "plot_roc(Y_test, Y_pysr, LE.classes_, 'pysr')\n",
    "plot_roc(Y_test, Y_hls, LE.classes_, 'hls')\n",
    "plot_roc(Y_test, Y_hls_lut, LE.classes_, 'hls_lut')"
   ]
  },
  {
   "cell_type": "markdown",
   "id": "7beb92ea",
   "metadata": {},
   "source": [
    "## Run synthesis from command line"
   ]
  },
  {
   "cell_type": "code",
   "execution_count": null,
   "id": "b88fa599",
   "metadata": {},
   "outputs": [],
   "source": [
    "source /data/tools/Xilinx/Vivado/2020.1/settings64.sh\n",
    "source /data/setup_xilinx_lic.sh"
   ]
  },
  {
   "cell_type": "code",
   "execution_count": null,
   "id": "96813a51",
   "metadata": {},
   "outputs": [],
   "source": [
    "!vivado_hls -f build_prj.tcl \"reset=1 synth=1 csim=0 cosim=0 validation=0 export=0 vsynth=1\""
   ]
  },
  {
   "cell_type": "code",
   "execution_count": null,
   "id": "53c3403d",
   "metadata": {
    "scrolled": false
   },
   "outputs": [],
   "source": [
    "!cat my-hls-test/myproject_prj/solution1/syn/report/myproject_csynth.rpt"
   ]
  },
  {
   "cell_type": "code",
   "execution_count": null,
   "id": "e4047f52",
   "metadata": {},
   "outputs": [],
   "source": []
  }
 ],
 "metadata": {
  "kernelspec": {
   "display_name": "Python 3 (ipykernel)",
   "language": "python",
   "name": "python3"
  },
  "language_info": {
   "codemirror_mode": {
    "name": "ipython",
    "version": 3
   },
   "file_extension": ".py",
   "mimetype": "text/x-python",
   "name": "python",
   "nbconvert_exporter": "python",
   "pygments_lexer": "ipython3",
   "version": "3.9.12"
  }
 },
 "nbformat": 4,
 "nbformat_minor": 5
}
